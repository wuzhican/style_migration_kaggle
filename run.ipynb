{
 "cells": [
  {
   "cell_type": "markdown",
   "metadata": {},
   "source": [
    "导入依赖"
   ]
  },
  {
   "cell_type": "code",
   "execution_count": 2,
   "metadata": {},
   "outputs": [
    {
     "name": "stderr",
     "output_type": "stream",
     "text": [
      "/home/wuzhican/.local/lib/python3.10/site-packages/tqdm/auto.py:22: TqdmWarning: IProgress not found. Please update jupyter and ipywidgets. See https://ipywidgets.readthedocs.io/en/stable/user_install.html\n",
      "  from .autonotebook import tqdm as notebook_tqdm\n",
      "/home/wuzhican/.local/lib/python3.10/site-packages/torchvision/io/image.py:13: UserWarning: Failed to load image Python extension: libc10_cuda.so: cannot open shared object file: No such file or directory\n",
      "  warn(f\"Failed to load image Python extension: {e}\")\n"
     ]
    }
   ],
   "source": [
    "import os,models\n",
    "import loaders\n",
    "import pytorch_lightning as pl\n",
    "from torch import nn\n",
    "from torch.utils.data import DataLoader\n",
    "from PIL import Image\n",
    "from torchvision import transforms\n",
    "from utils.Functions import *\n",
    "from argparse import ArgumentParser\n",
    "from pytorch_lightning.callbacks.early_stopping import EarlyStopping\n",
    "from pytorch_lightning.loggers import TensorBoardLogger"
   ]
  },
  {
   "cell_type": "markdown",
   "metadata": {},
   "source": [
    "配置参数"
   ]
  },
  {
   "cell_type": "code",
   "execution_count": 3,
   "metadata": {},
   "outputs": [],
   "source": [
    "batch_size = 2\n",
    "root_dir='./data'\n",
    "data_save_root='./checkpoint'\n",
    "style_image_path='./data/style.jpeg'\n",
    "models_choice_from = [\n",
    "    \"ImfwNet\",\n",
    "    \"SMNet\"\n",
    "]\n",
    "arg_v = {\n",
    "    'model':'ImfwNet',\n",
    "    'learning_rate':1e-3,\n",
    "    'root_dir':root_dir,\n",
    "    'data_save_root':root_dir,\n",
    "    'style_image_path':style_image_path,\n",
    "    'batch_size':batch_size,\n",
    "    'style_weight':10,\n",
    "    'content_weight':1e3,\n",
    "    'tv_weight':1e-3,\n",
    "    'resume_path':data_save_root,\n",
    "    'lr':1e-3,\n",
    "}"
   ]
  },
  {
   "cell_type": "markdown",
   "metadata": {},
   "source": [
    "model载入"
   ]
  },
  {
   "cell_type": "code",
   "execution_count": 4,
   "metadata": {},
   "outputs": [
    {
     "name": "stderr",
     "output_type": "stream",
     "text": [
      "/home/wuzhican/.local/lib/python3.10/site-packages/torchvision/models/_utils.py:208: UserWarning: The parameter 'pretrained' is deprecated since 0.13 and will be removed in 0.15, please use 'weights' instead.\n",
      "  warnings.warn(\n",
      "/home/wuzhican/.local/lib/python3.10/site-packages/torchvision/models/_utils.py:223: UserWarning: Arguments other than a weight enum or `None` for 'weights' are deprecated since 0.13 and will be removed in 0.15. The current behavior is equivalent to passing `weights=VGG16_Weights.IMAGENET1K_V1`. You can also use `weights=VGG16_Weights.DEFAULT` to get the most up-to-date weights.\n",
      "  warnings.warn(msg)\n"
     ]
    },
    {
     "ename": "",
     "evalue": "",
     "output_type": "error",
     "traceback": [
      "\u001b[1;31mCanceled future for execute_request message before replies were done"
     ]
    },
    {
     "ename": "",
     "evalue": "",
     "output_type": "error",
     "traceback": [
      "\u001b[1;31mThe Kernel crashed while executing code in the the current cell or a previous cell. Please review the code in the cell(s) to identify a possible cause of the failure. Click <a href='https://aka.ms/vscodeJupyterKernelCrash'>here</a> for more info. View Jupyter <a href='command:jupyter.viewOutput'>log</a> for further details."
     ]
    }
   ],
   "source": [
    "%matplotlib inline\n",
    "if arg_v['model'] not in models_choice_from:\n",
    "    print('model choice is not in %s,exit'%(str(models_choice_from)))\n",
    "    exit(-1)\n",
    "else:\n",
    "    if arg_v['model'] == 'ImfwNet':\n",
    "        module = models.FWNetModule(\n",
    "            load_image(style_image_path,shape=(512,512)),\n",
    "            style_weight=arg_v['style_weight'],\n",
    "            content_weight=arg_v['content_weight'],\n",
    "            tv_weight=arg_v['tv_weight'],\n",
    "            content_layers = ['layer2_2', 'layer3_3'],\n",
    "            style_layers = ['layer2_2','layer4_3'],\n",
    "            automatic_optimization=False,\n",
    "            lr=arg_v['lr']\n",
    "        )\n",
    "        train_dataset = loaders.styleLoader(root_dir,augment_ratio=2)\n",
    "        loader = (\n",
    "            DataLoader(train_dataset, batch_size=batch_size,num_workers=2,drop_last=True),\n",
    "        )\n",
    "        hooks = [EarlyStopping(monitor='train_loss', min_delta=0.1, patience=3, verbose=False, mode=\"min\")]\n",
    "        logger = TensorBoardLogger(\"./data/lightning_logs\", name='ImfwNet')\n",
    "        models_args={\n",
    "            'logger':logger\n",
    "        }\n",
    "    elif arg_v['model'] == 'SMNet':\n",
    "        module = models.SMNet(\n",
    "            load_image(style_image_path,shape=(512,512)),\n",
    "            style_weight=arg_v['style_weight'],\n",
    "            content_weight=arg_v['content_weight'],\n",
    "            automatic_optimization=False,\n",
    "            content_layers = ['layer2_2'],\n",
    "            style_layers = ['layer3_3', 'layer4_3']\n",
    "        )\n",
    "        train_dataset = loaders.styleLoader(root_dir,augment_ratio=int(1e9))\n",
    "        loader = (\n",
    "            DataLoader(train_dataset, batch_size=batch_size,num_workers=2,drop_last=True),\n",
    "        )\n",
    "        hooks = [EarlyStopping(monitor='loss', min_delta=1e-2, patience=9, verbose=False, mode=\"min\")]\n",
    "        logger = TensorBoardLogger('./data/lightning_logs', name='SMNet')\n",
    "        models_args={\n",
    "            'logger':logger\n",
    "        }"
   ]
  },
  {
   "cell_type": "code",
   "execution_count": null,
   "metadata": {},
   "outputs": [],
   "source": [
    "trainer = pl.Trainer(callbacks=hooks, default_root_dir=data_save_root,**models_args)\n",
    "trainer.fit(module,*loader)"
   ]
  }
 ],
 "metadata": {
  "kernelspec": {
   "display_name": "Python 3.10.8 64-bit",
   "language": "python",
   "name": "python3"
  },
  "language_info": {
   "codemirror_mode": {
    "name": "ipython",
    "version": 3
   },
   "file_extension": ".py",
   "mimetype": "text/x-python",
   "name": "python",
   "nbconvert_exporter": "python",
   "pygments_lexer": "ipython3",
   "version": "3.10.8"
  },
  "orig_nbformat": 4,
  "vscode": {
   "interpreter": {
    "hash": "e7370f93d1d0cde622a1f8e1c04877d8463912d04d973331ad4851f04de6915a"
   }
  }
 },
 "nbformat": 4,
 "nbformat_minor": 2
}
