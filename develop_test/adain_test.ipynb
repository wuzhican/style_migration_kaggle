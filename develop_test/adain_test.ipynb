{
 "cells": [
  {
   "cell_type": "code",
   "execution_count": 2,
   "metadata": {},
   "outputs": [],
   "source": [
    "import torch\n",
    "import torch.nn as nn\n",
    "from torchvision.models import vgg11\n",
    "\n"
   ]
  },
  {
   "cell_type": "code",
   "execution_count": 3,
   "metadata": {},
   "outputs": [
    {
     "data": {
      "text/plain": [
       "VggEncoder(\n",
       "  (modules): Sequential(\n",
       "    (0): Conv2d(3, 3, kernel_size=(1, 1), stride=(1, 1))\n",
       "    (1): VggConvLayer(\n",
       "      (modules): Sequential(\n",
       "        (0): ReflectionPad2d((1, 1, 1, 1))\n",
       "        (1): Conv2d(3, 64, kernel_size=(3, 3), stride=(1, 1))\n",
       "        (2): ReLU()\n",
       "      )\n",
       "    )\n",
       "    (2): VggConvLayer(\n",
       "      (modules): Sequential(\n",
       "        (0): ReflectionPad2d((1, 1, 1, 1))\n",
       "        (1): Conv2d(64, 64, kernel_size=(3, 3), stride=(1, 1))\n",
       "        (2): ReLU()\n",
       "      )\n",
       "    )\n",
       "    (3): MaxPool2d(kernel_size=2, stride=2, padding=0, dilation=1, ceil_mode=True)\n",
       "    (4): VggConvLayer(\n",
       "      (modules): Sequential(\n",
       "        (0): ReflectionPad2d((1, 1, 1, 1))\n",
       "        (1): Conv2d(64, 128, kernel_size=(3, 3), stride=(1, 1))\n",
       "        (2): ReLU()\n",
       "      )\n",
       "    )\n",
       "    (5): VggConvLayer(\n",
       "      (modules): Sequential(\n",
       "        (0): ReflectionPad2d((1, 1, 1, 1))\n",
       "        (1): Conv2d(128, 128, kernel_size=(3, 3), stride=(1, 1))\n",
       "        (2): ReLU()\n",
       "      )\n",
       "    )\n",
       "    (6): MaxPool2d(kernel_size=2, stride=2, padding=0, dilation=1, ceil_mode=True)\n",
       "    (7): VggConvLayer(\n",
       "      (modules): Sequential(\n",
       "        (0): ReflectionPad2d((1, 1, 1, 1))\n",
       "        (1): Conv2d(128, 256, kernel_size=(3, 3), stride=(1, 1))\n",
       "        (2): ReLU()\n",
       "      )\n",
       "    )\n",
       "    (8): VggConvLayer(\n",
       "      (modules): Sequential(\n",
       "        (0): ReflectionPad2d((1, 1, 1, 1))\n",
       "        (1): Conv2d(256, 256, kernel_size=(3, 3), stride=(1, 1))\n",
       "        (2): ReLU()\n",
       "        (3): ReflectionPad2d((1, 1, 1, 1))\n",
       "        (4): Conv2d(256, 256, kernel_size=(3, 3), stride=(1, 1))\n",
       "        (5): ReLU()\n",
       "        (6): ReflectionPad2d((1, 1, 1, 1))\n",
       "        (7): Conv2d(256, 256, kernel_size=(3, 3), stride=(1, 1))\n",
       "        (8): ReLU()\n",
       "      )\n",
       "    )\n",
       "    (9): MaxPool2d(kernel_size=2, stride=2, padding=0, dilation=1, ceil_mode=True)\n",
       "    (10): VggConvLayer(\n",
       "      (modules): Sequential(\n",
       "        (0): ReflectionPad2d((1, 1, 1, 1))\n",
       "        (1): Conv2d(256, 512, kernel_size=(3, 3), stride=(1, 1))\n",
       "        (2): ReLU()\n",
       "      )\n",
       "    )\n",
       "  )\n",
       ")"
      ]
     },
     "execution_count": 3,
     "metadata": {},
     "output_type": "execute_result"
    }
   ],
   "source": [
    "class VggConvLayer(nn.Module):\n",
    "    def __init__(self,in_channel,out_channel,layer_num=1) -> None:\n",
    "        super().__init__()\n",
    "        assert layer_num >= 1\n",
    "        modules = []\n",
    "        for i in range(layer_num):\n",
    "            modules.append(nn.ReflectionPad2d(1))\n",
    "            modules.append(nn.Conv2d(in_channel,out_channel,3))\n",
    "            modules.append(nn.ReLU())\n",
    "        self.modules = nn.Sequential(*modules)\n",
    "\n",
    "            \n",
    "    def forward(self,x):\n",
    "        return self.modules(x)\n",
    "        \n",
    "\n",
    "class VggEncoder(nn.Module):\n",
    "    def __init__(self) -> None:\n",
    "        super().__init__()\n",
    "        self.modules = nn.Sequential(\n",
    "            nn.Conv2d(3,3,1),\n",
    "            VggConvLayer(3,64),\n",
    "            VggConvLayer(64,64),\n",
    "            nn.MaxPool2d(2,2,ceil_mode=True),\n",
    "            VggConvLayer(64,128),\n",
    "            VggConvLayer(128,128),\n",
    "            nn.MaxPool2d(2,2,ceil_mode=True),\n",
    "            VggConvLayer(128,256),\n",
    "            VggConvLayer(256,256,3),\n",
    "            nn.MaxPool2d(2,2,ceil_mode=True),\n",
    "            VggConvLayer(256,512),\n",
    "            # VggConvLayer(512,512,3),\n",
    "            # nn.MaxPool2d(2,2,ceil_mode=True),\n",
    "            # VggConvLayer(512,512,4)\n",
    "        )\n",
    "        \n",
    "    def forward(self,x):\n",
    "        return self.modules(x)\n",
    "\n",
    "net = VggEncoder()\n",
    "net"
   ]
  },
  {
   "cell_type": "code",
   "execution_count": 13,
   "metadata": {},
   "outputs": [
    {
     "name": "stdout",
     "output_type": "stream",
     "text": [
      "b tensor([[[0.6610, 0.4581, 0.0725, 0.1556],\n",
      "         [0.7572, 0.5708, 0.1523, 0.2944],\n",
      "         [0.3483, 0.2334, 0.4204, 0.5740]]])\n",
      "b.var tensor([[0.0742, 0.0739, 0.0203]])\n"
     ]
    }
   ],
   "source": [
    "a = torch.rand((1,3,2,2))\n",
    "b = a.view(1,3,-1)\n",
    "print('b '+str(b))\n",
    "print('b.var '+str(b.var(dim=2)))\n",
    "\n",
    "c = torch.ones(1,3,1)\n",
    "d = (b+c)*(c+2)"
   ]
  }
 ],
 "metadata": {
  "kernelspec": {
   "display_name": "Python 3.10.8 64-bit",
   "language": "python",
   "name": "python3"
  },
  "language_info": {
   "codemirror_mode": {
    "name": "ipython",
    "version": 3
   },
   "file_extension": ".py",
   "mimetype": "text/x-python",
   "name": "python",
   "nbconvert_exporter": "python",
   "pygments_lexer": "ipython3",
   "version": "3.10.8"
  },
  "orig_nbformat": 4,
  "vscode": {
   "interpreter": {
    "hash": "e7370f93d1d0cde622a1f8e1c04877d8463912d04d973331ad4851f04de6915a"
   }
  }
 },
 "nbformat": 4,
 "nbformat_minor": 2
}
